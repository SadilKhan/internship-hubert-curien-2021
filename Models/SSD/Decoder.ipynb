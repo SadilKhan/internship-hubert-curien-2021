{
  "nbformat": 4,
  "nbformat_minor": 0,
  "metadata": {
    "colab": {
      "name": "Decoder.ipynb",
      "provenance": [],
      "collapsed_sections": []
    },
    "kernelspec": {
      "name": "python3",
      "display_name": "Python 3"
    },
    "language_info": {
      "name": "python"
    },
    "accelerator": "GPU",
    "widgets": {
      "application/vnd.jupyter.widget-state+json": {
        "b16d80605c6047fb93c5fd681ec2714a": {
          "model_module": "@jupyter-widgets/controls",
          "model_name": "HBoxModel",
          "state": {
            "_view_name": "HBoxView",
            "_dom_classes": [],
            "_model_name": "HBoxModel",
            "_view_module": "@jupyter-widgets/controls",
            "_model_module_version": "1.5.0",
            "_view_count": null,
            "_view_module_version": "1.5.0",
            "box_style": "",
            "layout": "IPY_MODEL_f546d73395894edb8b4756ee8133503c",
            "_model_module": "@jupyter-widgets/controls",
            "children": [
              "IPY_MODEL_ab1f0b650e804b1f91d5a80089616cac",
              "IPY_MODEL_84b168af8d634d4887056d156acd9244"
            ]
          }
        },
        "f546d73395894edb8b4756ee8133503c": {
          "model_module": "@jupyter-widgets/base",
          "model_name": "LayoutModel",
          "state": {
            "_view_name": "LayoutView",
            "grid_template_rows": null,
            "right": null,
            "justify_content": null,
            "_view_module": "@jupyter-widgets/base",
            "overflow": null,
            "_model_module_version": "1.2.0",
            "_view_count": null,
            "flex_flow": null,
            "width": null,
            "min_width": null,
            "border": null,
            "align_items": null,
            "bottom": null,
            "_model_module": "@jupyter-widgets/base",
            "top": null,
            "grid_column": null,
            "overflow_y": null,
            "overflow_x": null,
            "grid_auto_flow": null,
            "grid_area": null,
            "grid_template_columns": null,
            "flex": null,
            "_model_name": "LayoutModel",
            "justify_items": null,
            "grid_row": null,
            "max_height": null,
            "align_content": null,
            "visibility": null,
            "align_self": null,
            "height": null,
            "min_height": null,
            "padding": null,
            "grid_auto_rows": null,
            "grid_gap": null,
            "max_width": null,
            "order": null,
            "_view_module_version": "1.2.0",
            "grid_template_areas": null,
            "object_position": null,
            "object_fit": null,
            "grid_auto_columns": null,
            "margin": null,
            "display": null,
            "left": null
          }
        },
        "ab1f0b650e804b1f91d5a80089616cac": {
          "model_module": "@jupyter-widgets/controls",
          "model_name": "FloatProgressModel",
          "state": {
            "_view_name": "ProgressView",
            "style": "IPY_MODEL_64baeb1ac71b48459524c093835ce718",
            "_dom_classes": [],
            "description": "100%",
            "_model_name": "FloatProgressModel",
            "bar_style": "success",
            "max": 337,
            "_view_module": "@jupyter-widgets/controls",
            "_model_module_version": "1.5.0",
            "value": 337,
            "_view_count": null,
            "_view_module_version": "1.5.0",
            "orientation": "horizontal",
            "min": 0,
            "description_tooltip": null,
            "_model_module": "@jupyter-widgets/controls",
            "layout": "IPY_MODEL_d2bcec74ed2f48ee8a08cc865a1ed296"
          }
        },
        "84b168af8d634d4887056d156acd9244": {
          "model_module": "@jupyter-widgets/controls",
          "model_name": "HTMLModel",
          "state": {
            "_view_name": "HTMLView",
            "style": "IPY_MODEL_0fa69ef02a324d40968d94f177822687",
            "_dom_classes": [],
            "description": "",
            "_model_name": "HTMLModel",
            "placeholder": "​",
            "_view_module": "@jupyter-widgets/controls",
            "_model_module_version": "1.5.0",
            "value": " 337/337 [04:58&lt;00:00,  1.13it/s]",
            "_view_count": null,
            "_view_module_version": "1.5.0",
            "description_tooltip": null,
            "_model_module": "@jupyter-widgets/controls",
            "layout": "IPY_MODEL_896156dbd54645ffbe5c1f8fed09ec2a"
          }
        },
        "64baeb1ac71b48459524c093835ce718": {
          "model_module": "@jupyter-widgets/controls",
          "model_name": "ProgressStyleModel",
          "state": {
            "_view_name": "StyleView",
            "_model_name": "ProgressStyleModel",
            "description_width": "initial",
            "_view_module": "@jupyter-widgets/base",
            "_model_module_version": "1.5.0",
            "_view_count": null,
            "_view_module_version": "1.2.0",
            "bar_color": null,
            "_model_module": "@jupyter-widgets/controls"
          }
        },
        "d2bcec74ed2f48ee8a08cc865a1ed296": {
          "model_module": "@jupyter-widgets/base",
          "model_name": "LayoutModel",
          "state": {
            "_view_name": "LayoutView",
            "grid_template_rows": null,
            "right": null,
            "justify_content": null,
            "_view_module": "@jupyter-widgets/base",
            "overflow": null,
            "_model_module_version": "1.2.0",
            "_view_count": null,
            "flex_flow": null,
            "width": null,
            "min_width": null,
            "border": null,
            "align_items": null,
            "bottom": null,
            "_model_module": "@jupyter-widgets/base",
            "top": null,
            "grid_column": null,
            "overflow_y": null,
            "overflow_x": null,
            "grid_auto_flow": null,
            "grid_area": null,
            "grid_template_columns": null,
            "flex": null,
            "_model_name": "LayoutModel",
            "justify_items": null,
            "grid_row": null,
            "max_height": null,
            "align_content": null,
            "visibility": null,
            "align_self": null,
            "height": null,
            "min_height": null,
            "padding": null,
            "grid_auto_rows": null,
            "grid_gap": null,
            "max_width": null,
            "order": null,
            "_view_module_version": "1.2.0",
            "grid_template_areas": null,
            "object_position": null,
            "object_fit": null,
            "grid_auto_columns": null,
            "margin": null,
            "display": null,
            "left": null
          }
        },
        "0fa69ef02a324d40968d94f177822687": {
          "model_module": "@jupyter-widgets/controls",
          "model_name": "DescriptionStyleModel",
          "state": {
            "_view_name": "StyleView",
            "_model_name": "DescriptionStyleModel",
            "description_width": "",
            "_view_module": "@jupyter-widgets/base",
            "_model_module_version": "1.5.0",
            "_view_count": null,
            "_view_module_version": "1.2.0",
            "_model_module": "@jupyter-widgets/controls"
          }
        },
        "896156dbd54645ffbe5c1f8fed09ec2a": {
          "model_module": "@jupyter-widgets/base",
          "model_name": "LayoutModel",
          "state": {
            "_view_name": "LayoutView",
            "grid_template_rows": null,
            "right": null,
            "justify_content": null,
            "_view_module": "@jupyter-widgets/base",
            "overflow": null,
            "_model_module_version": "1.2.0",
            "_view_count": null,
            "flex_flow": null,
            "width": null,
            "min_width": null,
            "border": null,
            "align_items": null,
            "bottom": null,
            "_model_module": "@jupyter-widgets/base",
            "top": null,
            "grid_column": null,
            "overflow_y": null,
            "overflow_x": null,
            "grid_auto_flow": null,
            "grid_area": null,
            "grid_template_columns": null,
            "flex": null,
            "_model_name": "LayoutModel",
            "justify_items": null,
            "grid_row": null,
            "max_height": null,
            "align_content": null,
            "visibility": null,
            "align_self": null,
            "height": null,
            "min_height": null,
            "padding": null,
            "grid_auto_rows": null,
            "grid_gap": null,
            "max_width": null,
            "order": null,
            "_view_module_version": "1.2.0",
            "grid_template_areas": null,
            "object_position": null,
            "object_fit": null,
            "grid_auto_columns": null,
            "margin": null,
            "display": null,
            "left": null
          }
        },
        "da87fbcf25ed4db5bfbe963a5cd903e9": {
          "model_module": "@jupyter-widgets/controls",
          "model_name": "HBoxModel",
          "state": {
            "_view_name": "HBoxView",
            "_dom_classes": [],
            "_model_name": "HBoxModel",
            "_view_module": "@jupyter-widgets/controls",
            "_model_module_version": "1.5.0",
            "_view_count": null,
            "_view_module_version": "1.5.0",
            "box_style": "",
            "layout": "IPY_MODEL_75d5f6dde73846e089fd7102ab8fe0bb",
            "_model_module": "@jupyter-widgets/controls",
            "children": [
              "IPY_MODEL_fad908a3574245f3bde365a71052d98c",
              "IPY_MODEL_5838418607c6441e943e6486766fe7a5"
            ]
          }
        },
        "75d5f6dde73846e089fd7102ab8fe0bb": {
          "model_module": "@jupyter-widgets/base",
          "model_name": "LayoutModel",
          "state": {
            "_view_name": "LayoutView",
            "grid_template_rows": null,
            "right": null,
            "justify_content": null,
            "_view_module": "@jupyter-widgets/base",
            "overflow": null,
            "_model_module_version": "1.2.0",
            "_view_count": null,
            "flex_flow": null,
            "width": null,
            "min_width": null,
            "border": null,
            "align_items": null,
            "bottom": null,
            "_model_module": "@jupyter-widgets/base",
            "top": null,
            "grid_column": null,
            "overflow_y": null,
            "overflow_x": null,
            "grid_auto_flow": null,
            "grid_area": null,
            "grid_template_columns": null,
            "flex": null,
            "_model_name": "LayoutModel",
            "justify_items": null,
            "grid_row": null,
            "max_height": null,
            "align_content": null,
            "visibility": null,
            "align_self": null,
            "height": null,
            "min_height": null,
            "padding": null,
            "grid_auto_rows": null,
            "grid_gap": null,
            "max_width": null,
            "order": null,
            "_view_module_version": "1.2.0",
            "grid_template_areas": null,
            "object_position": null,
            "object_fit": null,
            "grid_auto_columns": null,
            "margin": null,
            "display": null,
            "left": null
          }
        },
        "fad908a3574245f3bde365a71052d98c": {
          "model_module": "@jupyter-widgets/controls",
          "model_name": "FloatProgressModel",
          "state": {
            "_view_name": "ProgressView",
            "style": "IPY_MODEL_d033af00f39243908f366f12e67df5df",
            "_dom_classes": [],
            "description": "100%",
            "_model_name": "FloatProgressModel",
            "bar_style": "success",
            "max": 337,
            "_view_module": "@jupyter-widgets/controls",
            "_model_module_version": "1.5.0",
            "value": 337,
            "_view_count": null,
            "_view_module_version": "1.5.0",
            "orientation": "horizontal",
            "min": 0,
            "description_tooltip": null,
            "_model_module": "@jupyter-widgets/controls",
            "layout": "IPY_MODEL_4c39dd8b25994619bf4f3fa43c793b59"
          }
        },
        "5838418607c6441e943e6486766fe7a5": {
          "model_module": "@jupyter-widgets/controls",
          "model_name": "HTMLModel",
          "state": {
            "_view_name": "HTMLView",
            "style": "IPY_MODEL_e84a70a452c040b48f546ae938aa1411",
            "_dom_classes": [],
            "description": "",
            "_model_name": "HTMLModel",
            "placeholder": "​",
            "_view_module": "@jupyter-widgets/controls",
            "_model_module_version": "1.5.0",
            "value": " 337/337 [09:50&lt;00:00,  1.75s/it]",
            "_view_count": null,
            "_view_module_version": "1.5.0",
            "description_tooltip": null,
            "_model_module": "@jupyter-widgets/controls",
            "layout": "IPY_MODEL_b4088c9c286f4fe9b3543e03c354431d"
          }
        },
        "d033af00f39243908f366f12e67df5df": {
          "model_module": "@jupyter-widgets/controls",
          "model_name": "ProgressStyleModel",
          "state": {
            "_view_name": "StyleView",
            "_model_name": "ProgressStyleModel",
            "description_width": "initial",
            "_view_module": "@jupyter-widgets/base",
            "_model_module_version": "1.5.0",
            "_view_count": null,
            "_view_module_version": "1.2.0",
            "bar_color": null,
            "_model_module": "@jupyter-widgets/controls"
          }
        },
        "4c39dd8b25994619bf4f3fa43c793b59": {
          "model_module": "@jupyter-widgets/base",
          "model_name": "LayoutModel",
          "state": {
            "_view_name": "LayoutView",
            "grid_template_rows": null,
            "right": null,
            "justify_content": null,
            "_view_module": "@jupyter-widgets/base",
            "overflow": null,
            "_model_module_version": "1.2.0",
            "_view_count": null,
            "flex_flow": null,
            "width": null,
            "min_width": null,
            "border": null,
            "align_items": null,
            "bottom": null,
            "_model_module": "@jupyter-widgets/base",
            "top": null,
            "grid_column": null,
            "overflow_y": null,
            "overflow_x": null,
            "grid_auto_flow": null,
            "grid_area": null,
            "grid_template_columns": null,
            "flex": null,
            "_model_name": "LayoutModel",
            "justify_items": null,
            "grid_row": null,
            "max_height": null,
            "align_content": null,
            "visibility": null,
            "align_self": null,
            "height": null,
            "min_height": null,
            "padding": null,
            "grid_auto_rows": null,
            "grid_gap": null,
            "max_width": null,
            "order": null,
            "_view_module_version": "1.2.0",
            "grid_template_areas": null,
            "object_position": null,
            "object_fit": null,
            "grid_auto_columns": null,
            "margin": null,
            "display": null,
            "left": null
          }
        },
        "e84a70a452c040b48f546ae938aa1411": {
          "model_module": "@jupyter-widgets/controls",
          "model_name": "DescriptionStyleModel",
          "state": {
            "_view_name": "StyleView",
            "_model_name": "DescriptionStyleModel",
            "description_width": "",
            "_view_module": "@jupyter-widgets/base",
            "_model_module_version": "1.5.0",
            "_view_count": null,
            "_view_module_version": "1.2.0",
            "_model_module": "@jupyter-widgets/controls"
          }
        },
        "b4088c9c286f4fe9b3543e03c354431d": {
          "model_module": "@jupyter-widgets/base",
          "model_name": "LayoutModel",
          "state": {
            "_view_name": "LayoutView",
            "grid_template_rows": null,
            "right": null,
            "justify_content": null,
            "_view_module": "@jupyter-widgets/base",
            "overflow": null,
            "_model_module_version": "1.2.0",
            "_view_count": null,
            "flex_flow": null,
            "width": null,
            "min_width": null,
            "border": null,
            "align_items": null,
            "bottom": null,
            "_model_module": "@jupyter-widgets/base",
            "top": null,
            "grid_column": null,
            "overflow_y": null,
            "overflow_x": null,
            "grid_auto_flow": null,
            "grid_area": null,
            "grid_template_columns": null,
            "flex": null,
            "_model_name": "LayoutModel",
            "justify_items": null,
            "grid_row": null,
            "max_height": null,
            "align_content": null,
            "visibility": null,
            "align_self": null,
            "height": null,
            "min_height": null,
            "padding": null,
            "grid_auto_rows": null,
            "grid_gap": null,
            "max_width": null,
            "order": null,
            "_view_module_version": "1.2.0",
            "grid_template_areas": null,
            "object_position": null,
            "object_fit": null,
            "grid_auto_columns": null,
            "margin": null,
            "display": null,
            "left": null
          }
        },
        "2814bdc03ec44ace945ed9673950bb16": {
          "model_module": "@jupyter-widgets/controls",
          "model_name": "HBoxModel",
          "state": {
            "_view_name": "HBoxView",
            "_dom_classes": [],
            "_model_name": "HBoxModel",
            "_view_module": "@jupyter-widgets/controls",
            "_model_module_version": "1.5.0",
            "_view_count": null,
            "_view_module_version": "1.5.0",
            "box_style": "",
            "layout": "IPY_MODEL_7f1df4e6f9e24f50b9b6f7bc48272999",
            "_model_module": "@jupyter-widgets/controls",
            "children": [
              "IPY_MODEL_ef41c4b292164d488144f6fbb0d9d22c",
              "IPY_MODEL_315cb434e17946c4980bf59168ba000a"
            ]
          }
        },
        "7f1df4e6f9e24f50b9b6f7bc48272999": {
          "model_module": "@jupyter-widgets/base",
          "model_name": "LayoutModel",
          "state": {
            "_view_name": "LayoutView",
            "grid_template_rows": null,
            "right": null,
            "justify_content": null,
            "_view_module": "@jupyter-widgets/base",
            "overflow": null,
            "_model_module_version": "1.2.0",
            "_view_count": null,
            "flex_flow": null,
            "width": null,
            "min_width": null,
            "border": null,
            "align_items": null,
            "bottom": null,
            "_model_module": "@jupyter-widgets/base",
            "top": null,
            "grid_column": null,
            "overflow_y": null,
            "overflow_x": null,
            "grid_auto_flow": null,
            "grid_area": null,
            "grid_template_columns": null,
            "flex": null,
            "_model_name": "LayoutModel",
            "justify_items": null,
            "grid_row": null,
            "max_height": null,
            "align_content": null,
            "visibility": null,
            "align_self": null,
            "height": null,
            "min_height": null,
            "padding": null,
            "grid_auto_rows": null,
            "grid_gap": null,
            "max_width": null,
            "order": null,
            "_view_module_version": "1.2.0",
            "grid_template_areas": null,
            "object_position": null,
            "object_fit": null,
            "grid_auto_columns": null,
            "margin": null,
            "display": null,
            "left": null
          }
        },
        "ef41c4b292164d488144f6fbb0d9d22c": {
          "model_module": "@jupyter-widgets/controls",
          "model_name": "FloatProgressModel",
          "state": {
            "_view_name": "ProgressView",
            "style": "IPY_MODEL_5ed82ffca1134e829f78ae1854212544",
            "_dom_classes": [],
            "description": "100%",
            "_model_name": "FloatProgressModel",
            "bar_style": "success",
            "max": 337,
            "_view_module": "@jupyter-widgets/controls",
            "_model_module_version": "1.5.0",
            "value": 337,
            "_view_count": null,
            "_view_module_version": "1.5.0",
            "orientation": "horizontal",
            "min": 0,
            "description_tooltip": null,
            "_model_module": "@jupyter-widgets/controls",
            "layout": "IPY_MODEL_e1302b6433744c818f1227c873a31fcc"
          }
        },
        "315cb434e17946c4980bf59168ba000a": {
          "model_module": "@jupyter-widgets/controls",
          "model_name": "HTMLModel",
          "state": {
            "_view_name": "HTMLView",
            "style": "IPY_MODEL_9710cca6b0da4504a13d97a0bea86848",
            "_dom_classes": [],
            "description": "",
            "_model_name": "HTMLModel",
            "placeholder": "​",
            "_view_module": "@jupyter-widgets/controls",
            "_model_module_version": "1.5.0",
            "value": " 337/337 [04:55&lt;00:00,  1.14it/s]",
            "_view_count": null,
            "_view_module_version": "1.5.0",
            "description_tooltip": null,
            "_model_module": "@jupyter-widgets/controls",
            "layout": "IPY_MODEL_4b6ef6d37b364443871acaf36715185d"
          }
        },
        "5ed82ffca1134e829f78ae1854212544": {
          "model_module": "@jupyter-widgets/controls",
          "model_name": "ProgressStyleModel",
          "state": {
            "_view_name": "StyleView",
            "_model_name": "ProgressStyleModel",
            "description_width": "initial",
            "_view_module": "@jupyter-widgets/base",
            "_model_module_version": "1.5.0",
            "_view_count": null,
            "_view_module_version": "1.2.0",
            "bar_color": null,
            "_model_module": "@jupyter-widgets/controls"
          }
        },
        "e1302b6433744c818f1227c873a31fcc": {
          "model_module": "@jupyter-widgets/base",
          "model_name": "LayoutModel",
          "state": {
            "_view_name": "LayoutView",
            "grid_template_rows": null,
            "right": null,
            "justify_content": null,
            "_view_module": "@jupyter-widgets/base",
            "overflow": null,
            "_model_module_version": "1.2.0",
            "_view_count": null,
            "flex_flow": null,
            "width": null,
            "min_width": null,
            "border": null,
            "align_items": null,
            "bottom": null,
            "_model_module": "@jupyter-widgets/base",
            "top": null,
            "grid_column": null,
            "overflow_y": null,
            "overflow_x": null,
            "grid_auto_flow": null,
            "grid_area": null,
            "grid_template_columns": null,
            "flex": null,
            "_model_name": "LayoutModel",
            "justify_items": null,
            "grid_row": null,
            "max_height": null,
            "align_content": null,
            "visibility": null,
            "align_self": null,
            "height": null,
            "min_height": null,
            "padding": null,
            "grid_auto_rows": null,
            "grid_gap": null,
            "max_width": null,
            "order": null,
            "_view_module_version": "1.2.0",
            "grid_template_areas": null,
            "object_position": null,
            "object_fit": null,
            "grid_auto_columns": null,
            "margin": null,
            "display": null,
            "left": null
          }
        },
        "9710cca6b0da4504a13d97a0bea86848": {
          "model_module": "@jupyter-widgets/controls",
          "model_name": "DescriptionStyleModel",
          "state": {
            "_view_name": "StyleView",
            "_model_name": "DescriptionStyleModel",
            "description_width": "",
            "_view_module": "@jupyter-widgets/base",
            "_model_module_version": "1.5.0",
            "_view_count": null,
            "_view_module_version": "1.2.0",
            "_model_module": "@jupyter-widgets/controls"
          }
        },
        "4b6ef6d37b364443871acaf36715185d": {
          "model_module": "@jupyter-widgets/base",
          "model_name": "LayoutModel",
          "state": {
            "_view_name": "LayoutView",
            "grid_template_rows": null,
            "right": null,
            "justify_content": null,
            "_view_module": "@jupyter-widgets/base",
            "overflow": null,
            "_model_module_version": "1.2.0",
            "_view_count": null,
            "flex_flow": null,
            "width": null,
            "min_width": null,
            "border": null,
            "align_items": null,
            "bottom": null,
            "_model_module": "@jupyter-widgets/base",
            "top": null,
            "grid_column": null,
            "overflow_y": null,
            "overflow_x": null,
            "grid_auto_flow": null,
            "grid_area": null,
            "grid_template_columns": null,
            "flex": null,
            "_model_name": "LayoutModel",
            "justify_items": null,
            "grid_row": null,
            "max_height": null,
            "align_content": null,
            "visibility": null,
            "align_self": null,
            "height": null,
            "min_height": null,
            "padding": null,
            "grid_auto_rows": null,
            "grid_gap": null,
            "max_width": null,
            "order": null,
            "_view_module_version": "1.2.0",
            "grid_template_areas": null,
            "object_position": null,
            "object_fit": null,
            "grid_auto_columns": null,
            "margin": null,
            "display": null,
            "left": null
          }
        },
        "f5b62f4849434ee9b3503ce28cf05f02": {
          "model_module": "@jupyter-widgets/controls",
          "model_name": "HBoxModel",
          "state": {
            "_view_name": "HBoxView",
            "_dom_classes": [],
            "_model_name": "HBoxModel",
            "_view_module": "@jupyter-widgets/controls",
            "_model_module_version": "1.5.0",
            "_view_count": null,
            "_view_module_version": "1.5.0",
            "box_style": "",
            "layout": "IPY_MODEL_f706c02d258249d788cba1122b171a89",
            "_model_module": "@jupyter-widgets/controls",
            "children": [
              "IPY_MODEL_ec0cf136e35b4a559a9e588a70a3cadc",
              "IPY_MODEL_a7a59732a77e45ebbc0b5fcf7176fca8"
            ]
          }
        },
        "f706c02d258249d788cba1122b171a89": {
          "model_module": "@jupyter-widgets/base",
          "model_name": "LayoutModel",
          "state": {
            "_view_name": "LayoutView",
            "grid_template_rows": null,
            "right": null,
            "justify_content": null,
            "_view_module": "@jupyter-widgets/base",
            "overflow": null,
            "_model_module_version": "1.2.0",
            "_view_count": null,
            "flex_flow": null,
            "width": null,
            "min_width": null,
            "border": null,
            "align_items": null,
            "bottom": null,
            "_model_module": "@jupyter-widgets/base",
            "top": null,
            "grid_column": null,
            "overflow_y": null,
            "overflow_x": null,
            "grid_auto_flow": null,
            "grid_area": null,
            "grid_template_columns": null,
            "flex": null,
            "_model_name": "LayoutModel",
            "justify_items": null,
            "grid_row": null,
            "max_height": null,
            "align_content": null,
            "visibility": null,
            "align_self": null,
            "height": null,
            "min_height": null,
            "padding": null,
            "grid_auto_rows": null,
            "grid_gap": null,
            "max_width": null,
            "order": null,
            "_view_module_version": "1.2.0",
            "grid_template_areas": null,
            "object_position": null,
            "object_fit": null,
            "grid_auto_columns": null,
            "margin": null,
            "display": null,
            "left": null
          }
        },
        "ec0cf136e35b4a559a9e588a70a3cadc": {
          "model_module": "@jupyter-widgets/controls",
          "model_name": "FloatProgressModel",
          "state": {
            "_view_name": "ProgressView",
            "style": "IPY_MODEL_48f177a3cce24592afa50ca64ec2df65",
            "_dom_classes": [],
            "description": " 66%",
            "_model_name": "FloatProgressModel",
            "bar_style": "",
            "max": 337,
            "_view_module": "@jupyter-widgets/controls",
            "_model_module_version": "1.5.0",
            "value": 223,
            "_view_count": null,
            "_view_module_version": "1.5.0",
            "orientation": "horizontal",
            "min": 0,
            "description_tooltip": null,
            "_model_module": "@jupyter-widgets/controls",
            "layout": "IPY_MODEL_a1a569a13d384b40a2278c57ce1a947a"
          }
        },
        "a7a59732a77e45ebbc0b5fcf7176fca8": {
          "model_module": "@jupyter-widgets/controls",
          "model_name": "HTMLModel",
          "state": {
            "_view_name": "HTMLView",
            "style": "IPY_MODEL_18da3854cf4e429c9b2f5aed44872ee1",
            "_dom_classes": [],
            "description": "",
            "_model_name": "HTMLModel",
            "placeholder": "​",
            "_view_module": "@jupyter-widgets/controls",
            "_model_module_version": "1.5.0",
            "value": " 222/337 [03:15&lt;01:50,  1.04it/s]",
            "_view_count": null,
            "_view_module_version": "1.5.0",
            "description_tooltip": null,
            "_model_module": "@jupyter-widgets/controls",
            "layout": "IPY_MODEL_7b962045cb5d43f48c32a047d4990c45"
          }
        },
        "48f177a3cce24592afa50ca64ec2df65": {
          "model_module": "@jupyter-widgets/controls",
          "model_name": "ProgressStyleModel",
          "state": {
            "_view_name": "StyleView",
            "_model_name": "ProgressStyleModel",
            "description_width": "initial",
            "_view_module": "@jupyter-widgets/base",
            "_model_module_version": "1.5.0",
            "_view_count": null,
            "_view_module_version": "1.2.0",
            "bar_color": null,
            "_model_module": "@jupyter-widgets/controls"
          }
        },
        "a1a569a13d384b40a2278c57ce1a947a": {
          "model_module": "@jupyter-widgets/base",
          "model_name": "LayoutModel",
          "state": {
            "_view_name": "LayoutView",
            "grid_template_rows": null,
            "right": null,
            "justify_content": null,
            "_view_module": "@jupyter-widgets/base",
            "overflow": null,
            "_model_module_version": "1.2.0",
            "_view_count": null,
            "flex_flow": null,
            "width": null,
            "min_width": null,
            "border": null,
            "align_items": null,
            "bottom": null,
            "_model_module": "@jupyter-widgets/base",
            "top": null,
            "grid_column": null,
            "overflow_y": null,
            "overflow_x": null,
            "grid_auto_flow": null,
            "grid_area": null,
            "grid_template_columns": null,
            "flex": null,
            "_model_name": "LayoutModel",
            "justify_items": null,
            "grid_row": null,
            "max_height": null,
            "align_content": null,
            "visibility": null,
            "align_self": null,
            "height": null,
            "min_height": null,
            "padding": null,
            "grid_auto_rows": null,
            "grid_gap": null,
            "max_width": null,
            "order": null,
            "_view_module_version": "1.2.0",
            "grid_template_areas": null,
            "object_position": null,
            "object_fit": null,
            "grid_auto_columns": null,
            "margin": null,
            "display": null,
            "left": null
          }
        },
        "18da3854cf4e429c9b2f5aed44872ee1": {
          "model_module": "@jupyter-widgets/controls",
          "model_name": "DescriptionStyleModel",
          "state": {
            "_view_name": "StyleView",
            "_model_name": "DescriptionStyleModel",
            "description_width": "",
            "_view_module": "@jupyter-widgets/base",
            "_model_module_version": "1.5.0",
            "_view_count": null,
            "_view_module_version": "1.2.0",
            "_model_module": "@jupyter-widgets/controls"
          }
        },
        "7b962045cb5d43f48c32a047d4990c45": {
          "model_module": "@jupyter-widgets/base",
          "model_name": "LayoutModel",
          "state": {
            "_view_name": "LayoutView",
            "grid_template_rows": null,
            "right": null,
            "justify_content": null,
            "_view_module": "@jupyter-widgets/base",
            "overflow": null,
            "_model_module_version": "1.2.0",
            "_view_count": null,
            "flex_flow": null,
            "width": null,
            "min_width": null,
            "border": null,
            "align_items": null,
            "bottom": null,
            "_model_module": "@jupyter-widgets/base",
            "top": null,
            "grid_column": null,
            "overflow_y": null,
            "overflow_x": null,
            "grid_auto_flow": null,
            "grid_area": null,
            "grid_template_columns": null,
            "flex": null,
            "_model_name": "LayoutModel",
            "justify_items": null,
            "grid_row": null,
            "max_height": null,
            "align_content": null,
            "visibility": null,
            "align_self": null,
            "height": null,
            "min_height": null,
            "padding": null,
            "grid_auto_rows": null,
            "grid_gap": null,
            "max_width": null,
            "order": null,
            "_view_module_version": "1.2.0",
            "grid_template_areas": null,
            "object_position": null,
            "object_fit": null,
            "grid_auto_columns": null,
            "margin": null,
            "display": null,
            "left": null
          }
        }
      }
    }
  },
  "cells": [
    {
      "cell_type": "code",
      "metadata": {
        "colab": {
          "base_uri": "https://localhost:8080/"
        },
        "id": "8tfo-t7pS-Lx",
        "outputId": "5026265b-ef96-49fb-9610-562756a918ec"
      },
      "source": [
        "from google.colab import drive\n",
        "\n",
        "drive.mount(\"/content/gdrive\")"
      ],
      "execution_count": 4,
      "outputs": [
        {
          "output_type": "stream",
          "text": [
            "Mounted at /content/gdrive\n"
          ],
          "name": "stdout"
        }
      ]
    },
    {
      "cell_type": "code",
      "metadata": {
        "colab": {
          "base_uri": "https://localhost:8080/"
        },
        "id": "tVG1BNZmTDUu",
        "outputId": "55977da9-b029-4809-8ffd-6ca179d1b0d1"
      },
      "source": [
        "import os\n",
        "os.chdir(\"/content/gdrive/MyDrive\")\n",
        "os.listdir()"
      ],
      "execution_count": 5,
      "outputs": [
        {
          "output_type": "execute_result",
          "data": {
            "text/plain": [
              "['Colab Notebooks',\n",
              " 'train_images',\n",
              " 'csv',\n",
              " 'SSD',\n",
              " 'utils',\n",
              " '.ipynb_checkpoints']"
            ]
          },
          "metadata": {
            "tags": []
          },
          "execution_count": 5
        }
      ]
    },
    {
      "cell_type": "code",
      "metadata": {
        "id": "xNdCqf8gTI5c"
      },
      "source": [
        "%matplotlib inline\n",
        "import numpy as np # Linear Algebra\n",
        "import gc\n",
        "import pandas as pd # Data Processing, CSV file I/O (e.g. pd.read_csv)\n",
        "\n",
        "import torch\n",
        "from torchvision import models\n",
        "from torch import nn\n",
        "from torch.utils.data import Dataset, DataLoader\n",
        "from torchvision import transforms\n",
        "import torch.nn.functional as F\n",
        "import torchvision\n",
        "from torchvision.ops import RoIAlign\n",
        "from torchsummary import summary\n",
        "\n",
        "\n",
        "from PIL import Image, ImageDraw\n",
        "import matplotlib.pyplot as plt\n",
        "from sklearn.model_selection import train_test_split\n",
        "import os\n",
        "import warnings\n",
        "warnings.filterwarnings(\"ignore\")\n",
        "import timeit\n",
        "from SSD.box_utils import cxcy_to_gcxgcy,cxcy_to_xy,gcxgcy_to_cxcy,xy_to_cxcy,find_jaccard_overlap,get_target_image\n",
        "from SSD.ssd import SSD\n",
        "from SSD.loss import MultiBoxLoss\n",
        "from SSD.dataset import SSDDataset\n",
        "from SSD.iou import bb_intersection_over_union\n",
        "from SSD.decoder import Decoder"
      ],
      "execution_count": 91,
      "outputs": []
    },
    {
      "cell_type": "code",
      "metadata": {
        "id": "ld0C6N5ELpDL"
      },
      "source": [
        "CUDA_LAUNCH_BLOCKING=1"
      ],
      "execution_count": 7,
      "outputs": []
    },
    {
      "cell_type": "code",
      "metadata": {
        "id": "PTEpw6yjTK-D"
      },
      "source": [
        "imageData=pd.read_csv(\"/content/gdrive/MyDrive/csv/imageData_3.csv\")\n",
        "data=pd.read_csv(\"/content/gdrive/MyDrive/csv/data_3.csv\")"
      ],
      "execution_count": 8,
      "outputs": []
    },
    {
      "cell_type": "code",
      "metadata": {
        "id": "wl2VZfUzTd37"
      },
      "source": [
        "image_names=list(data['image_name'].unique())\n",
        "imageArray=pd.DataFrame({\"image_name\":[],\"image_array\":[]})\n",
        "for im in image_names:\n",
        "  try:\n",
        "    img=Image.open(\"train_images/\"+im)\n",
        "    imageArray=pd.concat([imageArray,pd.DataFrame({\"image_name\":[im],\"image_array\":[np.array(img)]})])\n",
        "    del img\n",
        "  except:\n",
        "    pass"
      ],
      "execution_count": 9,
      "outputs": []
    },
    {
      "cell_type": "markdown",
      "metadata": {
        "id": "wnoGB-ccTuKx"
      },
      "source": [
        "# Dataset Genertation"
      ]
    },
    {
      "cell_type": "code",
      "metadata": {
        "id": "4Mk3oxLUTO8q"
      },
      "source": [
        "class DecoderDataset(Dataset):\n",
        "    def __init__(self, detector,data, imageData, imageArray, is_test=False, transform=None,output_size=(5,5)):\n",
        "        #self.annotation_folder_path = csv_path\n",
        "        self.detector=detector # Object Detector\n",
        "        self.data=data # Contains the information about bounding boxes\n",
        "        self.imageData=imageData # Contains the coordinate of the cropped images\n",
        "        self.imageArray=imageArray # Contains the arrays of the original 18 images\n",
        "        self.all_images=self.data['image_name'].unique()\n",
        "        self.transform = transform\n",
        "        self.is_test = is_test\n",
        "        self.output_size=output_size\n",
        "        # ROIALIGN\n",
        "        self.roialign=RoIAlign(self.output_size,1,-1)\n",
        "        \n",
        "    def __getitem__(self, idx):\n",
        "        img_name = self.all_images[idx]\n",
        "        if \"_\" in img_name:\n",
        "          original_img_name=img_name.split(\"_\")[0]+\".jpg\"\n",
        "        else:\n",
        "          original_img_name=img_name\n",
        "        coord=self.imageData[self.imageData['image_name']==img_name][[\"x_min\",\"y_min\",\"x_max\",\"y_max\"]].values[0]\n",
        "        img = Image.fromarray(self.imageArray[self.imageArray['image_name']==original_img_name]['image_array'].values[0][\n",
        "            int(coord[1]):int(coord[3]),int(coord[0]):int(coord[2]),:])\n",
        "        img = img.convert('RGB')\n",
        "        \n",
        "        if not self.is_test:\n",
        "            annotations=self.data[self.data['image_name']==img_name]\n",
        "\n",
        "            self.box = self.get_xy(annotations)\n",
        "\n",
        "            self.new_box = torch.cuda.FloatTensor(self.box_resize(self.box, img))\n",
        "            if self.transform:\n",
        "                img = self.transform(img)\n",
        "            \n",
        "\n",
        "            #self.labels=torch.FloatTensor(annotations['label'].values).cuda()\n",
        "\n",
        "            \"\"\"# Encode the labels with Int\n",
        "            self.le=LabelEncoder()\n",
        "            self.labels=torch.FloatTensor(self.le.fit_transform(self.labels))\"\"\"\n",
        "\n",
        "            return img_name,img.cuda(), self.new_box\n",
        "            #return img_name,img,self.new_box\n",
        "        else:\n",
        "            return img_name,img.cuda()\n",
        "    \n",
        "    def __len__(self):\n",
        "        return len(self.all_images)\n",
        "        \n",
        "    def get_xy(self, annotation):\n",
        "        boxes=torch.cuda.FloatTensor(annotation[['xmin','ymin','xmax','ymax']].values)\n",
        "        return boxes\n",
        "        \n",
        "    def box_resize(self, box, img, dims=(300, 300)):\n",
        "        old_dims = torch.cuda.FloatTensor([img.width, img.height, img.width, img.height]).unsqueeze(0)\n",
        "        #old_dims=torch.FloatTensor([img.width, img.height, img.width, img.height]).unsqueeze(0)\n",
        "        new_box = box.cuda() / old_dims\n",
        "        new_dims = torch.cuda.FloatTensor([dims[1], dims[0], dims[1], dims[0]]).unsqueeze(0)\n",
        "        #new_dims = torch.FloatTensor([dims[1], dims[0], dims[1], dims[0]]).unsqueeze(0)\n",
        "        #new_box = new_box * new_dims\n",
        "        \n",
        "        return new_box\n",
        "    \n",
        "    def collate_fn(self, batch):\n",
        "        \"\"\"\n",
        "        :param batch: an iterable of N sets from __getitem__()\n",
        "        :return: a tensor of images, lists of varying-size tensors of bounding boxes, labels, and difficulties\n",
        "        \"\"\"\n",
        "        image_names=list() # Name of the images\n",
        "        images = list()\n",
        "        boxes = list()\n",
        "        labels = list()\n",
        "#         difficulties = list()\n",
        "\n",
        "        for b in batch:\n",
        "            image_names.append(b[0])\n",
        "            images.append(b[1])\n",
        "            boxes.append(b[2])\n",
        "            #labels.append(b[3])\n",
        "#             difficulties.append(b[3])\n",
        "\n",
        "        images = torch.stack(images, dim=0)\n",
        "        # Get RoI's offset\n",
        "        self.locs,self.classes=self.detector(images)\n",
        "        self.classes=self.classes.cpu().detach()\n",
        "        self.locs=self.locs.cpu().detach()\n",
        "\n",
        "        # Transfer ssd style coordinates to xy coordinates\n",
        "        self.__batch_size=self.locs.size(0)\n",
        "        for i in range(self.__batch_size):\n",
        "          self.locs[i]=cxcy_to_xy(gcxgcy_to_cxcy(self.locs[i],self.detector.priors_cxcy.cpu()))\n",
        "\n",
        "        # Get all the feature maps\n",
        "        self.get_feature_maps(images) #(Batch Size, Num of Object, 5, 5)\n",
        "        self.make_single_box()\n",
        "\n",
        "        return image_names,self.feature_map, self.locations,boxes  # tensor (N, 3, 300, 300),\n",
        "    \n",
        "    def get_feature_maps(self,x):\n",
        "      \"\"\" Get all the feature maps from the ssd detector\"\"\"\n",
        "      \n",
        "      self.rescale_factors = nn.Parameter(torch.cuda.FloatTensor(1, 512, 1, 1))  # there are 512 channels in conv4_3_feats\n",
        "      # ROI Postions in Locs data Dictinary\n",
        "      self.__roi_pos_dict={\"conv4_3\":[0,38*38],\"conv7\":[38*38,38*38+19*19],\n",
        "                  \"conv8_2\":[38*38+19*19,38*38+19*19+10*10],\"conv9_2\":[38*38+19*19+10*10,38*38+19*19+10*10+5*5],\n",
        "                  \"conv10_2\":[38*38+19*19+10*10+5*5, 38*38+19*19+10*10+5*5+3*3]}\n",
        "      self.feature_map_size={\"conv4_3\":38,\"conv7\":19,\"conv8_2\":10,\"conv9_2\":5,\"conv10_2\":3}\n",
        "\n",
        "      # Get Conv4 and Conv7 from VGG\n",
        "      self.conv4_3,self.conv7=self.detector.base(x)\n",
        "\n",
        "      # Rescale conv4_3 after L2 norm\n",
        "      norm = self.conv4_3.pow(2).sum(dim=1, keepdim=True).sqrt()  # (N, 1, 38, 38)\n",
        "      self.conv4_3 = self.conv4_3 / norm  # (N, 512, 38, 38)\n",
        "      self.conv4_3 = self.conv4_3 * self.rescale_factors \n",
        "\n",
        "      # Get rest of the feature maps from conv7\n",
        "      self.conv8_2, self.conv9_2, self.conv10_2, self.conv11_2 = self.detector.aux_convs(self.conv7)\n",
        "\n",
        "      self.__feat_map_dict={\"conv4_3\":self.conv4_3,\"conv7\":self.conv7,\n",
        "                    \"conv8_2\":self.conv8_2,\"conv9_2\":self.conv9_2,\"conv10_2\":self.conv10_2,\n",
        "                    \"conv11_2\":self.conv11_2}\n",
        "\n",
        "\n",
        "      # For every object get it respective locations in feature map\n",
        "      self.locations,self.scores=self.get_map_for_objects()\n",
        "\n",
        "      # Merge feature maps \n",
        "      self.feature_map=self.merge_feature_maps()\n",
        "    \n",
        "    def get_map_for_objects(self):\n",
        "      # Get the locations of objects in feature maps\n",
        "      locations=[]\n",
        "      scores=[]\n",
        "      for i in range(self.__batch_size):\n",
        "        sc_bx,cl_bx=self.classes[i].max(dim=1)\n",
        "        un_cl=torch.unique(cl_bx)\n",
        "        # The locations of objects in every feature maps\n",
        "        class_dict={}\n",
        "        # The scores for the locations\n",
        "        score_dict={}\n",
        "        for num,k in enumerate(un_cl):\n",
        "          # We don't need background so eliminate object 0\n",
        "          if k!=0:\n",
        "            new_bx_k=dict()\n",
        "            score_for_k=dict()\n",
        "            bx_k=(cl_bx==k).nonzero(as_tuple=True)[0].cpu()\n",
        "            for rp in list(self.__roi_pos_dict.keys()):\n",
        "              min_,max_=self.__roi_pos_dict[rp]\n",
        "              max_bx_k=bx_k[bx_k<max_]\n",
        "              range_bx_k=max_bx_k[max_bx_k>=min_]\n",
        "              # Extract the feature m0ap name where positions belong\n",
        "              try:\n",
        "                locs_for_k=torch.clamp(self.locs[i][range_bx_k[torch.argmax(sc_bx[range_bx_k]).item()].item()],min=0,max=1)*self.feature_map_size[rp]\n",
        "                score_for_k[rp]=torch.max(sc_bx[range_bx_k]).item()\n",
        "                new_bx_k[rp]=locs_for_k.tolist()\n",
        "              except:\n",
        "                pass\n",
        "            class_dict[k.cpu().item()]=new_bx_k\n",
        "            score_dict[k.cpu().item()]=score_for_k\n",
        "        locations.append(class_dict)\n",
        "        scores.append(score_dict)\n",
        "      return locations,scores\n",
        "      \n",
        "    \n",
        "    def merge_feature_maps(self):\n",
        "      \"\"\" Merge the Fearure Maps for every object.\"\"\"\n",
        "      feature_map=[]\n",
        "      upsample=nn.Upsample((2560,5))\n",
        "      for i in range(self.__batch_size):\n",
        "        # Feature Maps for every Batch. Separate feature maps for separate images.\n",
        "        feature_map_bt=[]\n",
        "        for ob in self.locations[i].keys():\n",
        "          # Feature maps for every object. We will concatenate the feature maps\n",
        "          temp_ob=[]\n",
        "          for fm in self.locations[i][ob].keys():\n",
        "            roi=self.locations[i][ob][fm]\n",
        "            roi=[0]+roi\n",
        "            roi=torch.cuda.FloatTensor(roi).unsqueeze(0)\n",
        "            aligned_image=self.roialign(self.__feat_map_dict[fm],roi)\n",
        "            temp_ob.append(aligned_image)\n",
        "          \n",
        "          temp_ob=torch.moveaxis(torch.cat(temp_ob,dim=1),1,2)\n",
        "          temp_ob=upsample(temp_ob)\n",
        "          temp_ob=torch.moveaxis(temp_ob,2,1)\n",
        "          feature_map_bt.append(temp_ob)\n",
        "        feature_map.append(torch.cat(feature_map_bt,dim=0))\n",
        "      \n",
        "      return feature_map\n",
        "    \n",
        "    def make_single_box(self):\n",
        "      \"\"\" Some images have more than one boxes as they are captured in more than one feature maps. \n",
        "      We need to take the one with maximum scores\"\"\"\n",
        "      for i,lc in enumerate(self.locations):\n",
        "        for j,ob in enumerate(lc.keys()):\n",
        "          \n",
        "          if len(list(lc[ob].keys()))>1:\n",
        "            represented_box=np.argmax(list(self.scores[i][ob].values()))\n",
        "            self.scores[i][ob]=np.max(list(self.scores[i][ob].values()))\n",
        "            lc[ob]=torch.tensor(lc[ob][list(lc[ob].keys())[represented_box]]).to(\"cuda\")/self.feature_map_size[list(lc[ob].keys())[represented_box]]\n",
        "          else:\n",
        "            self.scores[i][ob]=list(self.scores[i][ob].values())[0]\n",
        "            lc[ob]=torch.tensor(lc[ob][list(lc[ob].keys())[0]]).to(\"cuda\")/self.feature_map_size[list(lc[ob].keys())[0]]"
      ],
      "execution_count": 82,
      "outputs": []
    },
    {
      "cell_type": "code",
      "metadata": {
        "id": "cPBAo5KDTSSP"
      },
      "source": [
        "tsfm = transforms.Compose([\n",
        "    transforms.Resize([300,300]),\n",
        "    transforms.ToTensor(),\n",
        "    transforms.Normalize([0.5, 0.5, 0.5], [0.5, 0.5, 0.5])])\n",
        "tsfmV2=transforms.Compose([\n",
        "    transforms.ToTensor(),\n",
        "    transforms.Normalize([0.5, 0.5, 0.5], [0.5, 0.5, 0.5])])\n",
        "# Batch Size\n",
        "BS=4"
      ],
      "execution_count": 83,
      "outputs": []
    },
    {
      "cell_type": "code",
      "metadata": {
        "colab": {
          "base_uri": "https://localhost:8080/"
        },
        "id": "R8lWQp7_OYf6",
        "outputId": "73b46da5-999c-4c90-ca17-cfe2c02964c4"
      },
      "source": [
        "N_CLASSES=data['label'].nunique()+1\n",
        "model=SSD(n_classes=N_CLASSES)\n",
        "model.load_state_dict(torch.load(\"/content/gdrive/MyDrive/SSD/model_giou_1b.pth\"))"
      ],
      "execution_count": 84,
      "outputs": [
        {
          "output_type": "stream",
          "text": [
            "\n",
            "Loaded base model.\n",
            "\n"
          ],
          "name": "stdout"
        },
        {
          "output_type": "execute_result",
          "data": {
            "text/plain": [
              "<All keys matched successfully>"
            ]
          },
          "metadata": {
            "tags": []
          },
          "execution_count": 84
        }
      ]
    },
    {
      "cell_type": "code",
      "metadata": {
        "id": "zVz1cNMKTUcj"
      },
      "source": [
        "train_ds = DecoderDataset(model,data.iloc[4606:,:], imageData,imageArray, transform=tsfm)\n",
        "train_dl = DataLoader(train_ds, batch_size=BS, shuffle=True, collate_fn=train_ds.collate_fn)"
      ],
      "execution_count": 85,
      "outputs": []
    },
    {
      "cell_type": "markdown",
      "metadata": {
        "id": "YguDB1WsTqHo"
      },
      "source": [
        "# Load Pretrained SSD Model"
      ]
    },
    {
      "cell_type": "code",
      "metadata": {
        "id": "LRQA2az8TWaA",
        "colab": {
          "base_uri": "https://localhost:8080/"
        },
        "outputId": "1713e1ed-2de6-42cc-efc8-c067489b341d"
      },
      "source": [
        "N_CLASSES=data['label'].nunique()+1\n",
        "model=SSD(n_classes=N_CLASSES)\n",
        "model.load_state_dict(torch.load(\"/content/gdrive/MyDrive/SSD/model_giou_1b.pth\"))"
      ],
      "execution_count": 86,
      "outputs": [
        {
          "output_type": "stream",
          "text": [
            "\n",
            "Loaded base model.\n",
            "\n"
          ],
          "name": "stdout"
        },
        {
          "output_type": "execute_result",
          "data": {
            "text/plain": [
              "<All keys matched successfully>"
            ]
          },
          "metadata": {
            "tags": []
          },
          "execution_count": 86
        }
      ]
    },
    {
      "cell_type": "code",
      "metadata": {
        "id": "hHUl1V0QXxLY"
      },
      "source": [
        "class Decoder1(nn.Module):\n",
        "  def __init__(self):\n",
        "    super(Decoder1,self).__init__()\n",
        "    \"\"\" \n",
        "    Parameter:\n",
        "    detector --> Object Detector\n",
        "    output_size --> Output size of ROI Align step. Default (5,5)\n",
        "    \"\"\"\n",
        "    # Decoding Layers\n",
        "    self.convT_1=nn.ConvTranspose2d(2560,1024,kernel_size=3,stride=2) #(1024, 11, 11)\n",
        "    self.convT_2=nn.ConvTranspose2d(1024,512,kernel_size=3,stride=2) #(512, 23, 23)\n",
        "    self.convT_3=nn.ConvTranspose2d(512,256,kernel_size=3,stride=1) #(256, 25, 25)\n",
        "\n",
        "    self.convT_4=nn.ConvTranspose2d(256,128,kernel_size=3,stride=2) # (128, 51, 51)\n",
        "    self.convT_5=nn.ConvTranspose2d(128,3,kernel_size=3,stride=2) # (3, 103, 103)\n",
        "    self.upsample_1=nn.Upsample((100,100)) # (3, 100, 100)\n",
        "\n",
        "\n",
        "  def forward(self,x):\n",
        "    # Output Images for batches\n",
        "    self.__batch_size=len(x)\n",
        "    output=[]\n",
        "    for i in range(self.__batch_size):\n",
        "      out=F.relu(self.convT_1(x[i]))\n",
        "      out=F.relu(self.convT_2(out))\n",
        "      out=F.relu(self.convT_3(out))\n",
        "      out=F.relu(self.convT_4(out))\n",
        "      out=F.relu(self.convT_5(out))\n",
        "      #out=F.relu(self.convT_6(out))\n",
        "      #out=F.relu(self.convT_7(out))\n",
        "      out=self.upsample_1(out)\n",
        "      output.append(out)\n",
        "\n",
        "    return output"
      ],
      "execution_count": 100,
      "outputs": []
    },
    {
      "cell_type": "code",
      "metadata": {
        "id": "opfw7kciPgq6"
      },
      "source": [
        "EPOCH=10\n",
        "LR=0.01"
      ],
      "execution_count": 101,
      "outputs": []
    },
    {
      "cell_type": "code",
      "metadata": {
        "id": "G_YFgAF5R5x3"
      },
      "source": [
        "class DecoderLoss(nn.Module):\n",
        "  def __init__(self,losstype=\"mse\"):\n",
        "    super(DecoderLoss,self).__init__()\n",
        "    self.losstype=\"mse\"\n",
        "    if self.losstype==\"mse\":\n",
        "      self.loss=nn.MSELoss()\n",
        "  \n",
        "  def forward(self,image_reconstructed,target_image,pred_loc,actual_loc):    \n",
        "    # Now we need to match the template of the reconstructed image with target image.\n",
        "    total_loss=[]\n",
        "    batch_size=len(pred_loc)\n",
        "\n",
        "    for batch in range(batch_size):\n",
        "      loss_per_batch=0\n",
        "      get_overlap=find_jaccard_overlap(torch.stack(list(pred_loc[batch].values())),actual_loc[batch])\n",
        "      indices=get_overlap.max(dim=1)[1]\n",
        "      for k in range(len(indices)):\n",
        "        image=self.get_image(target_image[batch],actual_loc[batch][indices[k]])\n",
        "        image=self.resize_image(target_image[batch])\n",
        "        ls=self.loss(image_reconstructed[batch][k].to(\"cuda\"),image.to(\"cuda\"))\n",
        "        loss_per_batch+=ls\n",
        "      total_loss.append(loss_per_batch)\n",
        "    \n",
        "    loss=torch.mean(torch.stack(total_loss))\n",
        "    return loss\n",
        "\n",
        "    \n",
        "  def get_image(self,image,box):\n",
        "    box=torch.round(box*image.size(-1))\n",
        "    box=[int(b) for b in box.tolist()]\n",
        "    return image[box[1]:box[3],box[0]:box[2]]\n",
        "  \n",
        "  def resize_image(self,image,size=(100,100)):\n",
        "    transforms_pil=transforms.ToPILImage()\n",
        "    transforms_tensor=transforms.ToTensor()\n",
        "\n",
        "    image=transforms_tensor(transforms_pil(image).resize(size,Image.NEAREST))\n",
        "    return image"
      ],
      "execution_count": 102,
      "outputs": []
    },
    {
      "cell_type": "code",
      "metadata": {
        "id": "6r1YfBO8Plr-"
      },
      "source": [
        "decoder=Decoder1().cuda()\n",
        "criterion=DecoderLoss(\"mse\")\n",
        "optimizer=torch.optim.Adam(decoder.parameters(),lr=LR)"
      ],
      "execution_count": 103,
      "outputs": []
    },
    {
      "cell_type": "markdown",
      "metadata": {
        "id": "QpWo-cfTYMYj"
      },
      "source": [
        "# Model Training"
      ]
    },
    {
      "cell_type": "code",
      "metadata": {
        "colab": {
          "base_uri": "https://localhost:8080/",
          "height": 247,
          "referenced_widgets": [
            "b16d80605c6047fb93c5fd681ec2714a",
            "f546d73395894edb8b4756ee8133503c",
            "ab1f0b650e804b1f91d5a80089616cac",
            "84b168af8d634d4887056d156acd9244",
            "64baeb1ac71b48459524c093835ce718",
            "d2bcec74ed2f48ee8a08cc865a1ed296",
            "0fa69ef02a324d40968d94f177822687",
            "896156dbd54645ffbe5c1f8fed09ec2a",
            "da87fbcf25ed4db5bfbe963a5cd903e9",
            "75d5f6dde73846e089fd7102ab8fe0bb",
            "fad908a3574245f3bde365a71052d98c",
            "5838418607c6441e943e6486766fe7a5",
            "d033af00f39243908f366f12e67df5df",
            "4c39dd8b25994619bf4f3fa43c793b59",
            "e84a70a452c040b48f546ae938aa1411",
            "b4088c9c286f4fe9b3543e03c354431d",
            "2814bdc03ec44ace945ed9673950bb16",
            "7f1df4e6f9e24f50b9b6f7bc48272999",
            "ef41c4b292164d488144f6fbb0d9d22c",
            "315cb434e17946c4980bf59168ba000a",
            "5ed82ffca1134e829f78ae1854212544",
            "e1302b6433744c818f1227c873a31fcc",
            "9710cca6b0da4504a13d97a0bea86848",
            "4b6ef6d37b364443871acaf36715185d",
            "f5b62f4849434ee9b3503ce28cf05f02",
            "f706c02d258249d788cba1122b171a89",
            "ec0cf136e35b4a559a9e588a70a3cadc",
            "a7a59732a77e45ebbc0b5fcf7176fca8",
            "48f177a3cce24592afa50ca64ec2df65",
            "a1a569a13d384b40a2278c57ce1a947a",
            "18da3854cf4e429c9b2f5aed44872ee1",
            "7b962045cb5d43f48c32a047d4990c45"
          ]
        },
        "id": "LqwqIfgwP1LB",
        "outputId": "90138ffa-2b91-48ea-b28c-db64adade7a8"
      },
      "source": [
        "from tqdm import tqdm_notebook\n",
        "import time\n",
        "for epoch in range(1, EPOCH+1):\n",
        "    decoder.train()\n",
        "    train_loss = []\n",
        "    time_start=time.time()\n",
        "    for step, (target_image_names,feature_maps,locations,boxes) in enumerate(tqdm_notebook(train_dl)):\n",
        "        time_1 = time.time()\n",
        "        target_image=get_target_image(target_image_names,data,imageData,imageArray,tsfmV2)\n",
        "        \n",
        "        reconstructed_image = decoder(feature_maps)\n",
        "        #locations=[bx.to(\"cpu\") for bx in locations]\n",
        "        \n",
        "        loss = criterion(reconstructed_image,target_image,locations,boxes)\n",
        "        \n",
        "        # Back propagation\n",
        "        optimizer.zero_grad()\n",
        "        loss.backward()\n",
        "        optimizer.step()\n",
        "        \n",
        "        train_loss.append(loss.item())\n",
        "    time_end=time.time()\n",
        "    total_time=str((time_end-time_start)//60)+\" minutes and \"+ str(np.round((time_end-time_start)%60))+\" seconds \"\n",
        "        \n",
        "        \n",
        "    print(\"Time:\",total_time, ' epoch: ', epoch, '/', EPOCH,\n",
        "            'train loss:', '{:.4f}'.format(np.mean(train_loss)))"
      ],
      "execution_count": null,
      "outputs": [
        {
          "output_type": "display_data",
          "data": {
            "application/vnd.jupyter.widget-view+json": {
              "model_id": "b16d80605c6047fb93c5fd681ec2714a",
              "version_minor": 0,
              "version_major": 2
            },
            "text/plain": [
              "HBox(children=(FloatProgress(value=0.0, max=337.0), HTML(value='')))"
            ]
          },
          "metadata": {
            "tags": []
          }
        },
        {
          "output_type": "stream",
          "text": [
            "\n",
            "Time: 4.0 minutes and 58.0 seconds   epoch:  1 / 10 train loss: 45433693.8438\n"
          ],
          "name": "stdout"
        },
        {
          "output_type": "display_data",
          "data": {
            "application/vnd.jupyter.widget-view+json": {
              "model_id": "da87fbcf25ed4db5bfbe963a5cd903e9",
              "version_minor": 0,
              "version_major": 2
            },
            "text/plain": [
              "HBox(children=(FloatProgress(value=0.0, max=337.0), HTML(value='')))"
            ]
          },
          "metadata": {
            "tags": []
          }
        },
        {
          "output_type": "stream",
          "text": [
            "\n",
            "Time: 4.0 minutes and 56.0 seconds   epoch:  2 / 10 train loss: 2.7033\n"
          ],
          "name": "stdout"
        },
        {
          "output_type": "display_data",
          "data": {
            "application/vnd.jupyter.widget-view+json": {
              "model_id": "2814bdc03ec44ace945ed9673950bb16",
              "version_minor": 0,
              "version_major": 2
            },
            "text/plain": [
              "HBox(children=(FloatProgress(value=0.0, max=337.0), HTML(value='')))"
            ]
          },
          "metadata": {
            "tags": []
          }
        },
        {
          "output_type": "stream",
          "text": [
            "\n",
            "Time: 4.0 minutes and 55.0 seconds   epoch:  3 / 10 train loss: 2.7033\n"
          ],
          "name": "stdout"
        },
        {
          "output_type": "display_data",
          "data": {
            "application/vnd.jupyter.widget-view+json": {
              "model_id": "f5b62f4849434ee9b3503ce28cf05f02",
              "version_minor": 0,
              "version_major": 2
            },
            "text/plain": [
              "HBox(children=(FloatProgress(value=0.0, max=337.0), HTML(value='')))"
            ]
          },
          "metadata": {
            "tags": []
          }
        }
      ]
    },
    {
      "cell_type": "code",
      "metadata": {
        "id": "2OhQMo5CiSka"
      },
      "source": [
        ""
      ],
      "execution_count": null,
      "outputs": []
    },
    {
      "cell_type": "code",
      "metadata": {
        "id": "ahz775nm9Rz2"
      },
      "source": [
        ""
      ],
      "execution_count": null,
      "outputs": []
    },
    {
      "cell_type": "code",
      "metadata": {
        "id": "guMoMPx89SdI"
      },
      "source": [
        ""
      ],
      "execution_count": null,
      "outputs": []
    }
  ]
}